{
  "cells": [
    {
      "cell_type": "code",
      "source": [
        "# web scraping tayara tn using beautiful soup\n"
      ],
      "metadata": {
        "id": "SB12tNuinEnt"
      },
      "execution_count": null,
      "outputs": []
    },
    {
      "cell_type": "code",
      "source": [
        "# install required libraries\n",
        "!mamba install bs4==4.10.0 -y\n",
        "!mamba install html5lib==1.1 -y\n",
        "!pip install lxml==4.6.4\n",
        "# import necessary libraries\n",
        "import pandas as pd\n",
        "import requests\n",
        "from bs4 import BeautifulSoup"
      ],
      "metadata": {
        "colab": {
          "base_uri": "https://localhost:8080/"
        },
        "id": "0325HAhFnIV4",
        "outputId": "ae5741cb-7db2-4bcc-d8ce-aaa166692b69"
      },
      "execution_count": null,
      "outputs": [
        {
          "output_type": "stream",
          "name": "stdout",
          "text": [
            "/bin/bash: line 1: mamba: command not found\n",
            "/bin/bash: line 1: mamba: command not found\n",
            "Collecting lxml==4.6.4\n",
            "  Downloading lxml-4.6.4-cp310-cp310-manylinux_2_17_x86_64.manylinux2014_x86_64.manylinux_2_24_x86_64.whl.metadata (3.3 kB)\n",
            "Downloading lxml-4.6.4-cp310-cp310-manylinux_2_17_x86_64.manylinux2014_x86_64.manylinux_2_24_x86_64.whl (6.9 MB)\n",
            "\u001b[2K   \u001b[90m━━━━━━━━━━━━━━━━━━━━━━━━━━━━━━━━━━━━━━━━\u001b[0m \u001b[32m6.9/6.9 MB\u001b[0m \u001b[31m31.0 MB/s\u001b[0m eta \u001b[36m0:00:00\u001b[0m\n",
            "\u001b[?25hInstalling collected packages: lxml\n",
            "  Attempting uninstall: lxml\n",
            "    Found existing installation: lxml 4.9.4\n",
            "    Uninstalling lxml-4.9.4:\n",
            "      Successfully uninstalled lxml-4.9.4\n",
            "\u001b[31mERROR: pip's dependency resolver does not currently take into account all the packages that are installed. This behaviour is the source of the following dependency conflicts.\n",
            "yfinance 0.2.41 requires lxml>=4.9.1, but you have lxml 4.6.4 which is incompatible.\u001b[0m\u001b[31m\n",
            "\u001b[0mSuccessfully installed lxml-4.6.4\n"
          ]
        }
      ]
    },
    {
      "cell_type": "code",
      "source": [
        "\n",
        "\n",
        "# Parent page URL PS total of 179 pages with this specific filter search\n",
        "Parent_url = \"https://www.tayara.tn/ads/c/V%C3%A9hicules/Voitures/?minPrice=10000&minKilom%C3%A9trage=40&page=1\"\n",
        "Parent_data = requests.get(Parent_url).text\n",
        "\n",
        "# Parse the HTML content\n",
        "parent_soup = BeautifulSoup(Parent_data, 'html5lib')\n",
        "\n",
        "# List to store the URLs\n",
        "parent_urls = []\n",
        "\n",
        "# Find all article elements and extract href from anchor tags\n",
        "for row in parent_soup.find(\"body\").find_all(\"article\"):\n",
        "    # Find the first anchor tag within the article\n",
        "    anchor = row.find(\"a\")\n",
        "    if anchor and 'href' in anchor.attrs:\n",
        "        # Append the href attribute to the list\n",
        "        parent_urls.append(anchor['href'])\n",
        "\n",
        "# Output the list of URLs\n",
        "print(len(parent_urls))\n"
      ],
      "metadata": {
        "colab": {
          "base_uri": "https://localhost:8080/"
        },
        "id": "kfk1vhW7oQlp",
        "outputId": "d7739232-e2ba-45ff-bcdc-be7b35b18d4a"
      },
      "execution_count": null,
      "outputs": [
        {
          "output_type": "stream",
          "name": "stdout",
          "text": [
            "65\n"
          ]
        }
      ]
    },
    {
      "cell_type": "code",
      "source": [
        "# iterate whole website :\n",
        "# List to store the URLs\n",
        "parent_urls = []\n",
        "\n",
        "\n",
        "\n",
        "# Parent page URL PS total of 179 pages with this specific filter search\n",
        "\n",
        "for i in range (1,180):\n",
        "  Parent_url = f\"https://www.tayara.tn/ads/c/V%C3%A9hicules/Voitures/?minPrice=10000&minKilom%C3%A9trage=40&page={i}\"\n",
        "  Parent_data = requests.get(Parent_url).text\n",
        "  # Parse the HTML content\n",
        "  parent_soup = BeautifulSoup(Parent_data, 'html5lib')\n",
        "  # Find all article elements and extract href from anchor tags\n",
        "  for row in parent_soup.find(\"body\").find_all(\"article\"):\n",
        "      # Find the first anchor tag within the article\n",
        "      anchor = row.find(\"a\")\n",
        "      if anchor and 'href' in anchor.attrs:\n",
        "          # Append the href attribute to the list\n",
        "          parent_urls.append(anchor['href'])\n",
        "\n",
        "\n",
        "\n",
        "\n",
        "# Output the list of URLs\n",
        "print(len(parent_urls))\n"
      ],
      "metadata": {
        "colab": {
          "base_uri": "https://localhost:8080/"
        },
        "id": "-DwIbZIAIV-Q",
        "outputId": "6b814508-d3c9-41e4-f917-82eb0f416b45"
      },
      "execution_count": null,
      "outputs": [
        {
          "output_type": "stream",
          "name": "stdout",
          "text": [
            "5395\n"
          ]
        }
      ]
    },
    {
      "cell_type": "code",
      "source": [
        " # going to each page and scraping relevant data\n",
        "\n",
        "urls = []\n",
        "for page in parent_urls:\n",
        "  urls.append('https://www.tayara.tn'+page)\n",
        "data = []\n",
        "for url in urls :\n",
        "  data.append(requests.get(url).text)\n",
        "\n",
        "soups = []\n",
        "\n",
        "for one in data :\n",
        "  soups.append(BeautifulSoup(one, 'html5lib'))\n",
        "\n",
        "print(len(soups))"
      ],
      "metadata": {
        "colab": {
          "base_uri": "https://localhost:8080/"
        },
        "id": "bcqjqRAvt8zJ",
        "outputId": "454af6c7-2972-4851-bd6c-288517865dfb"
      },
      "execution_count": null,
      "outputs": [
        {
          "output_type": "stream",
          "name": "stdout",
          "text": [
            "5395\n"
          ]
        }
      ]
    },
    {
      "cell_type": "code",
      "source": [
        "\n",
        "# Initialize an empty DataFrame with specified columns\n",
        "used_cars_data = pd.DataFrame(columns=[\"location\", \"time_posted\", \"Mileage\", \"Vehicle_color\", \"Price\",\n",
        "                                       \"Vehicle_condition\", \"engine_size\", \"year\", \"gearbox\", \"brand\", \"model\", \"car_body\", \"fuel\"])\n",
        "\n",
        "# Extract price from the first row\n",
        "price_row = soups[0].find('body').find_all('data')[0]\n",
        "price_col = price_row.findAll(\"span\")\n",
        "price = price_col[0].text + price_col[1].text\n",
        "\n",
        "# Extract location and time posted\n",
        "location_row = soups[0].find_all(class_=\"flex items-center space-x-2 mb-1\")[0]\n",
        "location_col = location_row.findAll('span')\n",
        "content = location_col[0].text.split(',')\n",
        "location = content[0]\n",
        "time_posted = content[1]\n",
        "\n",
        "# Initialize a dictionary to hold the car details\n",
        "car_details = {\n",
        "    \"location\": location,\n",
        "    \"time_posted\": time_posted,\n",
        "    \"Price\": price\n",
        "}\n",
        "\n",
        "# Extract additional car details\n",
        "for row in soups[0].find_all(class_=\"px-4 py-2 bg-gray-100/70 flex items-center rounded-md border border-gray-300/80\"):\n",
        "    col = row.findAll('span')\n",
        "    if len(col) < 3:  # Ensure there are enough spans\n",
        "        continue\n",
        "    key = col[1].text.strip()  # Get the label\n",
        "    value = col[2].text.strip()  # Get the value\n",
        "\n",
        "    # Update the car_details dictionary based on the key\n",
        "    if key == \"Kilométrage\":\n",
        "        car_details[\"Mileage\"] = value\n",
        "    elif key == \"Couleur du véhicule\":\n",
        "        car_details[\"Vehicle_color\"] = value\n",
        "    elif key == \"Etat du véhicule\":\n",
        "        car_details[\"Vehicle_condition\"] = value\n",
        "    elif key == \"Cylindrée\":\n",
        "        car_details[\"engine_size\"] = value\n",
        "    elif key == \"Année\":\n",
        "        car_details[\"year\"] = value\n",
        "    elif key == \"Boite\":\n",
        "        car_details[\"gearbox\"] = value\n",
        "    elif key == \"Marque\":\n",
        "        car_details[\"brand\"] = value\n",
        "    elif key == \"Modèle\":\n",
        "        car_details[\"model\"] = value\n",
        "    elif key == \"Puissance fiscale\":\n",
        "        car_details[\"horsepower\"] = value\n",
        "    elif key == \"Type de carrosserie\":\n",
        "        car_details[\"car_body\"] = value\n",
        "    elif key == \"Carburant\":\n",
        "        car_details[\"fuel\"] = value\n",
        "\n",
        "# Append the car details to the DataFrame\n",
        "used_cars_data = pd.concat([used_cars_data, pd.DataFrame([car_details])], ignore_index=True)\n",
        "\n",
        "# Print the extracted details\n",
        "print(used_cars_data)\n"
      ],
      "metadata": {
        "colab": {
          "base_uri": "https://localhost:8080/"
        },
        "id": "FMt8C00j7JaG",
        "outputId": "fd18aa3a-41c2-44b2-9da2-a1fd628227a9"
      },
      "execution_count": null,
      "outputs": [
        {
          "output_type": "stream",
          "name": "stdout",
          "text": [
            "  location time_posted Mileage Vehicle_color  Price Vehicle_condition  \\\n",
            "0   Tunis    a day ago  230000          Noir  48500  Avec kilométrage   \n",
            "\n",
            "  engine_size  year      gearbox          brand           model car_body  \\\n",
            "0        1.8L  2008  Automatique  Mercedes-Benz  Classe C Coupe  Berline   \n",
            "\n",
            "      fuel horsepower  \n",
            "0  Essence         11  \n"
          ]
        }
      ]
    },
    {
      "cell_type": "code",
      "source": [
        "import pandas as pd\n",
        "\n",
        "# Initialize an empty DataFrame with specified columns\n",
        "used_cars_data = pd.DataFrame(columns=[\"location\", \"time_posted\", \"Mileage\", \"Vehicle_color\", \"Price\",\n",
        "                                       \"Vehicle_condition\", \"engine_size\", \"year\", \"gearbox\", \"brand\", \"model\", \"car_body\", \"fuel\"])\n",
        "\n",
        "# Extract price, location, and time posted for each soup object\n",
        "for soup in soups:\n",
        "    # Initialize a dictionary to hold the car details with default values\n",
        "    car_details = {\n",
        "        \"location\": None,\n",
        "        \"time_posted\": None,\n",
        "        \"Price\": None,\n",
        "        \"Mileage\": None,\n",
        "        \"Vehicle_color\": None,\n",
        "        \"Vehicle_condition\": None,\n",
        "        \"engine_size\": None,\n",
        "        \"year\": None,\n",
        "        \"gearbox\": None,\n",
        "        \"brand\": None,\n",
        "        \"model\": None,\n",
        "        \"horsepower\": None,\n",
        "        \"car_body\": None,\n",
        "        \"fuel\": None\n",
        "    }\n",
        "\n",
        "    # Extract price\n",
        "    price_rows = soup.find('body').find_all('data')\n",
        "    if price_rows:  # Check if there are any price rows\n",
        "        price_col = price_rows[0].findAll(\"span\")\n",
        "        if len(price_col) >= 2:  # Ensure there are enough spans\n",
        "            car_details[\"Price\"] = price_col[0].text + price_col[1].text\n",
        "\n",
        "    # Extract location and time posted\n",
        "    location_rows = soup.find_all(class_=\"flex items-center space-x-2 mb-1\")\n",
        "    if location_rows:  # Check if there are any location rows\n",
        "        location_col = location_rows[0].findAll('span')\n",
        "        if location_col:  # Ensure there are spans available\n",
        "            content = location_col[0].text.split(',')\n",
        "            if len(content) >= 2:  # Ensure there are enough elements\n",
        "                car_details[\"location\"] = content[0].strip()\n",
        "                car_details[\"time_posted\"] = content[1].strip()\n",
        "\n",
        "    # Extract additional car details\n",
        "    for row in soup.find_all(class_=\"px-4 py-2 bg-gray-100/70 flex items-center rounded-md border border-gray-300/80\"):\n",
        "        col = row.findAll('span')\n",
        "        if len(col) < 3:  # Ensure there are enough spans\n",
        "            continue\n",
        "        key = col[1].text.strip()  # Get the label\n",
        "        value = col[2].text.strip()  # Get the value\n",
        "\n",
        "        # Update the car_details dictionary based on the key\n",
        "        if key == \"Kilométrage\":\n",
        "            car_details[\"Mileage\"] = value\n",
        "        elif key == \"Couleur du véhicule\":\n",
        "            car_details[\"Vehicle_color\"] = value\n",
        "        elif key == \"Etat du véhicule\":\n",
        "            car_details[\"Vehicle_condition\"] = value\n",
        "        elif key == \"Cylindrée\":\n",
        "            car_details[\"engine_size\"] = value\n",
        "        elif key == \"Année\":\n",
        "            car_details[\"year\"] = value\n",
        "        elif key == \"Boite\":\n",
        "            car_details[\"gearbox\"] = value\n",
        "        elif key == \"Marque\":\n",
        "            car_details[\"brand\"] = value\n",
        "        elif key == \"Modèle\":\n",
        "            car_details[\"model\"] = value\n",
        "        elif key == \"Puissance fiscale\":\n",
        "            car_details[\"horsepower\"] = value\n",
        "        elif key == \"Type de carrosserie\":\n",
        "            car_details[\"car_body\"] = value\n",
        "        elif key == \"Carburant\":\n",
        "            car_details[\"fuel\"] = value\n",
        "\n",
        "    # Append the car details to the DataFrame\n",
        "    used_cars_data = pd.concat([used_cars_data, pd.DataFrame([car_details])], ignore_index=True)\n",
        "\n",
        "# Print the extracted details\n",
        "print(used_cars_data)\n"
      ],
      "metadata": {
        "colab": {
          "base_uri": "https://localhost:8080/"
        },
        "id": "Yhdv-5piA_g4",
        "outputId": "c782d657-fac7-4ddc-ff67-df4891d68a1c"
      },
      "execution_count": null,
      "outputs": [
        {
          "output_type": "stream",
          "name": "stdout",
          "text": [
            "        location  time_posted  Mileage Vehicle_color   Price  \\\n",
            "0          Tunis    a day ago   230000          Noir   48500   \n",
            "1         Ariana   3 days ago  153.000          Noir   59000   \n",
            "2           Sfax   3 days ago    42000        Orange   41500   \n",
            "3          Tunis   4 days ago    46000         Blanc  139000   \n",
            "4     La Manouba   5 days ago    75000          Noir   45000   \n",
            "...          ...          ...      ...           ...     ...   \n",
            "5390        None         None     None          None    None   \n",
            "5391    Monastir   a year ago    90000          Bleu   72000   \n",
            "5392       Tunis   a year ago   157000          Noir   23000   \n",
            "5393    Monastir   a year ago   135000          Gris   11111   \n",
            "5394      Nabeul  2 years ago    93000          Gris   74800   \n",
            "\n",
            "     Vehicle_condition engine_size  year      gearbox          brand  \\\n",
            "0     Avec kilométrage        1.8L  2008  Automatique  Mercedes-Benz   \n",
            "1     Avec kilométrage        2.0L  2012  Automatique            Kia   \n",
            "2              Nouveau       <1.0L  2022     Manuelle            Kia   \n",
            "3     Avec kilométrage        1.5L  2020  Automatique            BMW   \n",
            "4     Avec kilométrage        1.5L  2021  Automatique             MG   \n",
            "...                ...         ...   ...          ...            ...   \n",
            "5390              None        None  None         None           None   \n",
            "5391  Avec kilométrage       <1.0L  2020     Manuelle     Volkswagen   \n",
            "5392  Avec kilométrage       >4.0L  2012     Manuelle        Renault   \n",
            "5393           Nouveau        1.4L  2013     Manuelle        Renault   \n",
            "5394           Nouveau        1.6L  2018     Manuelle     Volkswagen   \n",
            "\n",
            "               model  car_body     fuel horsepower  \n",
            "0     Classe C Coupe   Berline  Essence         11  \n",
            "1           Sportage     4 x 4  Essence         11  \n",
            "2            Picanto   Berline  Essence          4  \n",
            "3            Serie 1   Berline  Essence          8  \n",
            "4                 ZS     4 x 4  Essence          7  \n",
            "...              ...       ...      ...        ...  \n",
            "5390            None      None     None       None  \n",
            "5391          Golf 7  Compacte  Essence          5  \n",
            "5392          Symbol   Berline  Essence          5  \n",
            "5393            Clio    Autres  Essence          5  \n",
            "5394            Golf   Berline   Diesel          6  \n",
            "\n",
            "[5395 rows x 14 columns]\n"
          ]
        }
      ]
    },
    {
      "cell_type": "code",
      "source": [
        "used_cars_data.to_csv('TN_used_cars_data.csv', index=False)"
      ],
      "metadata": {
        "id": "FGNWlASYGxsd"
      },
      "execution_count": null,
      "outputs": []
    },
    {
      "cell_type": "markdown",
      "source": [],
      "metadata": {
        "id": "nd-WcsBQEyxK"
      }
    }
  ],
  "metadata": {
    "colab": {
      "provenance": []
    },
    "kernelspec": {
      "display_name": "Python 3",
      "name": "python3"
    },
    "language_info": {
      "name": "python"
    }
  },
  "nbformat": 4,
  "nbformat_minor": 0
}